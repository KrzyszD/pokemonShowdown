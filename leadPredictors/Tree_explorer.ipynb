{
 "cells": [
  {
   "cell_type": "code",
   "execution_count": 1,
   "metadata": {},
   "outputs": [],
   "source": [
    "import sys\n",
    "sys.path.append(\"../\")"
   ]
  },
  {
   "cell_type": "code",
   "execution_count": 2,
   "metadata": {},
   "outputs": [],
   "source": [
    "from Simulator.pokemon import *\n",
    "from Simulator.poke_utils import *\n",
    "from Simulator.pokemon_statistics import *\n",
    "from Simulator.simulator import runSimList\n",
    "from Simulator.simulator_obj import simulator\n",
    "import sqlite3\n",
    "import pickle"
   ]
  },
  {
   "cell_type": "code",
   "execution_count": 3,
   "metadata": {},
   "outputs": [],
   "source": [
    "import re\n",
    "best_move = '>p2 move 1 1\\n'\n",
    "move_targets = re.search(r'p1\\ move\\ (?P<move1>[1-4])(\\ )?(?P<target1>(-1|-2|1|2))?\\ *(,\\ move\\ (?P<move2>[1-4])(\\ )?(?P<target2>(-1|-2|1|2))?)?', best_move)\n",
    "if move_targets:\n",
    "    print(move_targets.groupdict())"
   ]
  },
  {
   "cell_type": "code",
   "execution_count": 4,
   "metadata": {},
   "outputs": [
    {
     "name": "stdout",
     "output_type": "stream",
     "text": [
      "Wall time: 4.32 s\n"
     ]
    }
   ],
   "source": [
    "%%time\n",
    "s = simulator('../teams/team.txt', ['incineroar', 'rillaboom', 'regieleki', 'amoonguss', 'kyogre','entei'], '../')\n",
    "q = s.get_output()"
   ]
  },
  {
   "cell_type": "code",
   "execution_count": 5,
   "metadata": {},
   "outputs": [
    {
     "name": "stdout",
     "output_type": "stream",
     "text": [
      "('amoonguss', tensor([0.3144, 0.3089, 0.3767], device='cuda:0', grad_fn=<SelectBackward>))\n",
      "('kyogre', tensor([0.3348, 0.3132, 0.3519], device='cuda:0', grad_fn=<SelectBackward>))\n",
      "('rillaboom', tensor([0.3558, 0.2982, 0.3461], device='cuda:0', grad_fn=<SelectBackward>))\n",
      "('incineroar', tensor([0.3274, 0.3612, 0.3114], device='cuda:0', grad_fn=<SelectBackward>))\n",
      "('regieleki', tensor([0.3406, 0.3543, 0.3051], device='cuda:0', grad_fn=<SelectBackward>))\n",
      "('entei', tensor([0.3669, 0.3410, 0.2920], device='cuda:0', grad_fn=<SelectBackward>))\n",
      "Wall time: 475 ms\n"
     ]
    },
    {
     "data": {
      "text/plain": [
       "('amoonguss', 'kyogre')"
      ]
     },
     "execution_count": 5,
     "metadata": {},
     "output_type": "execute_result"
    }
   ],
   "source": [
    "%%time\n",
    "s.pred_lead()"
   ]
  },
  {
   "cell_type": "code",
   "execution_count": 6,
   "metadata": {},
   "outputs": [],
   "source": [
    "# s.parse_battle_history()"
   ]
  },
  {
   "cell_type": "code",
   "execution_count": 7,
   "metadata": {},
   "outputs": [
    {
     "name": "stdout",
     "output_type": "stream",
     "text": [
      "Porygon2\n",
      "Slowbro-Galar\n",
      "[<Simulator.pokemon.pokemon object at 0x000001DB508F8550>, <Simulator.pokemon.pokemon object at 0x000001DB51EF9A60>]\n",
      "incineroar\n",
      "rillaboom\n",
      "[<Simulator.pokemon.pokemon object at 0x000001DB508F87F0>, <Simulator.pokemon.pokemon object at 0x000001DB517CC8E0>]\n"
     ]
    }
   ],
   "source": [
    "s.my_team_active('Porygon2', 'Slowbro-Galar') \n",
    "s.oppo_team_active('incineroar', 'rillaboom') \n",
    "\n",
    "print(s.ms.team1.active[0].name)\n",
    "print(s.ms.team1.active[1].name)\n",
    "print(s.ms.team1.active)\n",
    "print(s.ms.team2.active[0].name)\n",
    "print(s.ms.team2.active[1].name)\n",
    "print(s.ms.team2.active)"
   ]
  },
  {
   "cell_type": "code",
   "execution_count": 8,
   "metadata": {},
   "outputs": [
    {
     "name": "stdout",
     "output_type": "stream",
     "text": [
      "Wall time: 184 ms\n"
     ]
    },
    {
     "data": {
      "text/plain": [
       "dict_values(['3', '2', '3', '2'])"
      ]
     },
     "execution_count": 8,
     "metadata": {},
     "output_type": "execute_result"
    }
   ],
   "source": [
    "%%time\n",
    "s.findBestMove()\n"
   ]
  },
  {
   "cell_type": "code",
   "execution_count": 9,
   "metadata": {},
   "outputs": [
    {
     "ename": "SyntaxError",
     "evalue": "cannot assign to literal (<ipython-input-9-c0ab9e3898ea>, line 1)",
     "output_type": "error",
     "traceback": [
      "\u001b[1;36m  File \u001b[1;32m\"<ipython-input-9-c0ab9e3898ea>\"\u001b[1;36m, line \u001b[1;32m1\u001b[0m\n\u001b[1;33m    1 = 2\u001b[0m\n\u001b[1;37m    ^\u001b[0m\n\u001b[1;31mSyntaxError\u001b[0m\u001b[1;31m:\u001b[0m cannot assign to literal\n"
     ]
    }
   ],
   "source": [
    "1 = 2"
   ]
  },
  {
   "cell_type": "code",
   "execution_count": 16,
   "metadata": {},
   "outputs": [],
   "source": [
    "import pickle\n",
    "f = open(\"movedex.pkl\", \"rb\")\n",
    "movedex = pickle.load(f)\n",
    "f.close()"
   ]
  },
  {
   "cell_type": "markdown",
   "metadata": {},
   "source": [
    "# Testing below this point"
   ]
  },
  {
   "cell_type": "code",
   "execution_count": null,
   "metadata": {
    "scrolled": false
   },
   "outputs": [],
   "source": [
    "p1 = createPikalyticsPokemon('incineroar')\n",
    "p2 = createPikalyticsPokemon('regieleki')\n",
    "\n",
    "p3 = createPikalyticsPokemon('urshifu')\n",
    "p4 = createPikalyticsPokemon('grimmsnarl')\n",
    "\n",
    "combos = genMoveCombos([p1, p2], 'p1', False)\n",
    "print(len(combos))\n",
    "\n",
    "combos2 = genMoveCombos([p3, p4], 'p2', False)\n",
    "print(len(combos2))\n",
    "\n",
    "print(len(combos) * len(combos2))\n",
    "\n",
    "combos"
   ]
  },
  {
   "cell_type": "code",
   "execution_count": null,
   "metadata": {},
   "outputs": [],
   "source": []
  },
  {
   "cell_type": "code",
   "execution_count": null,
   "metadata": {},
   "outputs": [],
   "source": [
    "def makeFormatString(poke_name, moves=[], maxmoves=[], ability='', item=''):\n",
    "    # I should check the poke_name against table names in database or \n",
    "    # else ill get sql injected problem here, granted the consequences are small \n",
    "    # but lets be honest it also probably isnt\n",
    "    # put in a validate statement like if(validate(poke_name))\n",
    "        \n",
    "    format_string = 'SELECT * FROM ' + poke_name \n",
    "    format_tuple = ()\n",
    "    \n",
    "    where = False\n",
    "    \n",
    "    for move in moves:\n",
    "        if where:\n",
    "            format_string += ' AND (move1=? OR move2=? OR move3=? OR move4=?)'\n",
    "        else:\n",
    "            format_string += ' WHERE (move1=? OR move2=? OR move3=? OR move4=?)'\n",
    "            where = True\n",
    "        format_tuple += (move, move, move, move)\n",
    "    \n",
    "    for move in maxmoves:\n",
    "        if where:\n",
    "            format_string += ' AND (maxmove1=? OR maxmove2=? OR maxmove3=? OR maxmove4=?)'\n",
    "        else:\n",
    "            format_string += ' WHERE (maxmove1=? OR maxmove2=? OR maxmove3=? OR maxmove4=?)'\n",
    "            where = True\n",
    "        format_tuple += (move, move, move, move)\n",
    "                \n",
    "    if ability_name != '':\n",
    "        if where: \n",
    "            format_string += ' AND ability=?'\n",
    "        else:\n",
    "            format_string += ' WHERE ability=?'\n",
    "            where = True\n",
    "        format_tuple += (ability_name,)\n",
    "        \n",
    "    if item_name != '':\n",
    "        if where: \n",
    "            format_string += ' AND item=?'\n",
    "        else:\n",
    "            format_string += ' WHERE item=?'\n",
    "            where = True\n",
    "        format_tuple += (item_name,)\n",
    "    \n",
    "    \n",
    "    return format_string, format_tuple\n",
    "\n",
    "def update_freq(freq, key):\n",
    "    if key in freq:\n",
    "        freq[key] += 1\n",
    "    else:\n",
    "        freq[key] = 1\n",
    "        \n",
    "def update_predictions(pokemon):\n",
    "    format_string, format_tuple = makeFormatString(pokemon.name, pokemon.moves, pokemon.max_moves, \n",
    "                                                   pokemon.ability, pokemon.item)\n",
    "    cursor.execute(format_string, format_tuple)\n",
    "    \n",
    "    total = 0\n",
    "    move_freq = {}\n",
    "    ability_freq = {}\n",
    "    item_freq = {}\n",
    "    for (num_id, ability, item, move1, move2, move3, move4, _, _, _, _) in cursor:\n",
    "        total += 1\n",
    "\n",
    "        update_freq(ability_freq, ability)\n",
    "        update_freq(item_freq, item)\n",
    "\n",
    "        update_freq(move_freq, move1)\n",
    "        update_freq(move_freq, move2)\n",
    "        update_freq(move_freq, move3)\n",
    "        update_freq(move_freq, move4)\n",
    "    \n",
    "    if \"UNKNOWN\" in ability_freq.keys():\n",
    "        ability_freq.pop(\"UNKNOWN\")\n",
    "    if \"UNKNOWN\" in item_freq.keys():\n",
    "        item_freq.pop(\"UNKNOWN\")\n",
    "    if \"UNKNOWN\" in move_freq.keys():\n",
    "        move_freq.pop(\"UNKNOWN\")\n",
    "    if \"UNKNOWN\" in maxmove_freq.keys():\n",
    "        maxmove_freq.pop(\"UNKNOWN\")\n",
    "    \n",
    "    if (pokemon.ability == ''):\n",
    "        key, _ = max(ability_freq.items(), key=lambda x:x[1])\n",
    "        pokemon.pred_ability = key\n",
    "    \n",
    "    if (pokemon.item == ''):\n",
    "        key, _ = max(item_freq.items(), key=lambda x:x[1])\n",
    "        pokemon.pred_item = key\n",
    "    \n",
    "    pokemon.pred_moves = []\n",
    "    for i in range(4 - len(pokemon.moves)):\n",
    "        key, _ = max(move_freq.items(), key=lambda x:x[1])\n",
    "        pokemon.pred_moves.append(key)\n",
    "        move_freq.pop(key)\n",
    "    "
   ]
  },
  {
   "cell_type": "code",
   "execution_count": null,
   "metadata": {},
   "outputs": [],
   "source": [
    "connection = sqlite3.connect(\"pokemon_profiles.db\")\n",
    "cursor = connection.cursor()"
   ]
  },
  {
   "cell_type": "code",
   "execution_count": null,
   "metadata": {},
   "outputs": [],
   "source": []
  }
 ],
 "metadata": {
  "kernelspec": {
   "display_name": "Python 3.8.8 ('base')",
   "language": "python",
   "name": "python3"
  },
  "language_info": {
   "codemirror_mode": {
    "name": "ipython",
    "version": 3
   },
   "file_extension": ".py",
   "mimetype": "text/x-python",
   "name": "python",
   "nbconvert_exporter": "python",
   "pygments_lexer": "ipython3",
   "version": "3.8.8"
  },
  "vscode": {
   "interpreter": {
    "hash": "8823c54c75366e473ae3c9babf24a2314a02b7daef7e37d372b430b3ea62c228"
   }
  }
 },
 "nbformat": 4,
 "nbformat_minor": 4
}
